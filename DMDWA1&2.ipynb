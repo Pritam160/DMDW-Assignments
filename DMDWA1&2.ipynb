{
  "nbformat": 4,
  "nbformat_minor": 0,
  "metadata": {
    "colab": {
      "name": "DMDWA1.ipynb",
      "provenance": []
    },
    "kernelspec": {
      "name": "python3",
      "display_name": "Python 3"
    }
  },
  "cells": [
    {
      "cell_type": "code",
      "metadata": {
        "id": "1wQazDfX3BtQ"
      },
      "source": [
        "find Mean --Sample 1"
      ],
      "execution_count": null,
      "outputs": []
    },
    {
      "cell_type": "code",
      "metadata": {
        "colab": {
          "base_uri": "https://localhost:8080/"
        },
        "id": "phrTMYVI3J_i",
        "outputId": "574afabd-bd05-48c3-bb5b-e0a93d3c198b"
      },
      "source": [
        "(4 + 8 + 6 + 5 + 3 + 2 + 8 + 9 + 2 + 5) /10"
      ],
      "execution_count": 1,
      "outputs": [
        {
          "output_type": "execute_result",
          "data": {
            "text/plain": [
              "5.2"
            ]
          },
          "metadata": {
            "tags": []
          },
          "execution_count": 1
        }
      ]
    },
    {
      "cell_type": "code",
      "metadata": {
        "colab": {
          "base_uri": "https://localhost:8080/"
        },
        "id": "o8fgO_vj3PQ7",
        "outputId": "b2534e39-6df9-49aa-9965-fb523160644e"
      },
      "source": [
        "import statistics\n",
        "\n",
        "statistics.mean([4, 8, 6, 5, 3, 2, 8, 9, 2, 5])"
      ],
      "execution_count": 2,
      "outputs": [
        {
          "output_type": "execute_result",
          "data": {
            "text/plain": [
              "5.2"
            ]
          },
          "metadata": {
            "tags": []
          },
          "execution_count": 2
        }
      ]
    },
    {
      "cell_type": "code",
      "metadata": {
        "colab": {
          "base_uri": "https://localhost:8080/"
        },
        "id": "cQVgjFuP3zKJ",
        "outputId": "5d70e8d4-35d6-4a7f-bd3b-905e01f8021f"
      },
      "source": [
        "def my_median(sample):\n",
        "   n = len(sample)\n",
        "   index = n // 2\n",
        "  # Sample with an odd number of observations\n",
        "   if n % 2:\n",
        "        return sorted(sample)[index]\n",
        "  # Sample with an even number of observations\n",
        "        return sum(sorted(sample)[index - 1:index + 1]) / 2\n",
        "\n",
        "\n",
        "my_median([3, 5, 1, 4, 2])"
      ],
      "execution_count": 3,
      "outputs": [
        {
          "output_type": "execute_result",
          "data": {
            "text/plain": [
              "3"
            ]
          },
          "metadata": {
            "tags": []
          },
          "execution_count": 3
        }
      ]
    },
    {
      "cell_type": "code",
      "metadata": {
        "colab": {
          "base_uri": "https://localhost:8080/"
        },
        "id": "OXtnXoyc33A4",
        "outputId": "e8cad6d2-dd48-4e9b-ddf5-323f358a3c1e"
      },
      "source": [
        "import statistics\n",
        "statistics.median([3, 5, 1, 4, 2])"
      ],
      "execution_count": 4,
      "outputs": [
        {
          "output_type": "execute_result",
          "data": {
            "text/plain": [
              "3"
            ]
          },
          "metadata": {
            "tags": []
          },
          "execution_count": 4
        }
      ]
    },
    {
      "cell_type": "code",
      "metadata": {
        "colab": {
          "base_uri": "https://localhost:8080/"
        },
        "id": "6trVveCz37A9",
        "outputId": "949bbf6d-0811-4951-f41c-9f91a7b785ce"
      },
      "source": [
        "from collections import Counter\n",
        "\n",
        "def my_mode(sample):\n",
        "    c = Counter(sample)\n",
        "    return [k for k, v in c.items() if v == c.most_common(1)[0][1]]\n",
        "\n",
        "\n",
        "my_mode([\"male\", \"male\", \"female\", \"male\"])"
      ],
      "execution_count": 5,
      "outputs": [
        {
          "output_type": "execute_result",
          "data": {
            "text/plain": [
              "['male']"
            ]
          },
          "metadata": {
            "tags": []
          },
          "execution_count": 5
        }
      ]
    },
    {
      "cell_type": "code",
      "metadata": {
        "colab": {
          "base_uri": "https://localhost:8080/"
        },
        "id": "4zbIH_CG4AOt",
        "outputId": "1dec7874-7435-4298-a428-0d60e00da47a"
      },
      "source": [
        "import statistics\n",
        "\n",
        "statistics.mode([4, 1, 2, 2, 3, 5])"
      ],
      "execution_count": 6,
      "outputs": [
        {
          "output_type": "execute_result",
          "data": {
            "text/plain": [
              "2"
            ]
          },
          "metadata": {
            "tags": []
          },
          "execution_count": 6
        }
      ]
    },
    {
      "cell_type": "code",
      "metadata": {
        "colab": {
          "base_uri": "https://localhost:8080/"
        },
        "id": "uIiW-BQF46yc",
        "outputId": "81817fee-6de9-4230-94c3-c7b81a05efc1"
      },
      "source": [
        "def variance(data):\n",
        "     # Number of observations\n",
        "     n = len(data)\n",
        "     # Mean of the data\n",
        "     mean = sum(data) / n\n",
        "     # Square deviations\n",
        "     deviations = [(x - mean) ** 2 for x in data]\n",
        "     # Variance\n",
        "     variance = sum(deviations) / n\n",
        "     return variance\n",
        "\n",
        "variance([4, 8, 6, 5, 3, 2, 8, 9, 2, 5])"
      ],
      "execution_count": 7,
      "outputs": [
        {
          "output_type": "execute_result",
          "data": {
            "text/plain": [
              "5.76"
            ]
          },
          "metadata": {
            "tags": []
          },
          "execution_count": 7
        }
      ]
    },
    {
      "cell_type": "code",
      "metadata": {
        "id": "TdRC6tWe7xO5"
      },
      "source": [
        "Variance sample 2:-the statistics.pvariance() and statistics.variance() are the functions that we can use to calculate the variance"
      ],
      "execution_count": null,
      "outputs": []
    },
    {
      "cell_type": "code",
      "metadata": {
        "colab": {
          "base_uri": "https://localhost:8080/"
        },
        "id": "NWE-sCDc76BW",
        "outputId": "32720d30-943c-466a-c185-9bb2891447df"
      },
      "source": [
        "import statistics\n",
        "\n",
        "statistics.pvariance([4, 8, 6, 5, 3, 2, 8, 9, 2, 5])"
      ],
      "execution_count": 8,
      "outputs": [
        {
          "output_type": "execute_result",
          "data": {
            "text/plain": [
              "5.760000000000001"
            ]
          },
          "metadata": {
            "tags": []
          },
          "execution_count": 8
        }
      ]
    },
    {
      "cell_type": "code",
      "metadata": {
        "colab": {
          "base_uri": "https://localhost:8080/"
        },
        "id": "EuZmo0WG7_ID",
        "outputId": "d9767074-3882-4ac2-988b-7ff90361d2f9"
      },
      "source": [
        "import math\n",
        "\n",
        " # We relay on our previous implementation for the variance\n",
        "def variance(data, ddof=0):\n",
        "     n = len(data)\n",
        "     mean = sum(data) / n\n",
        "     return sum((x - mean) ** 2 for x in data) / (n - ddof)\n",
        "\n",
        "def stdev(data):\n",
        "     var = variance(data)\n",
        "     std_dev = math.sqrt(var)\n",
        "     return std_dev\n",
        "\n",
        "stdev([4, 8, 6, 5, 3, 2, 8, 9, 2, 5])"
      ],
      "execution_count": 9,
      "outputs": [
        {
          "output_type": "execute_result",
          "data": {
            "text/plain": [
              "2.4"
            ]
          },
          "metadata": {
            "tags": []
          },
          "execution_count": 9
        }
      ]
    },
    {
      "cell_type": "code",
      "metadata": {
        "colab": {
          "base_uri": "https://localhost:8080/"
        },
        "id": "hLFoL-Rx8EyS",
        "outputId": "93098fe3-d948-4f53-d579-8c35edd10d08"
      },
      "source": [
        "import statistics\n",
        "\n",
        "statistics.pstdev([4, 8, 6, 5, 3, 2, 8, 9, 2, 5])"
      ],
      "execution_count": 10,
      "outputs": [
        {
          "output_type": "execute_result",
          "data": {
            "text/plain": [
              "2.4000000000000004"
            ]
          },
          "metadata": {
            "tags": []
          },
          "execution_count": 10
        }
      ]
    },
    {
      "cell_type": "code",
      "metadata": {
        "id": "HPF1DGDH8Jrh"
      },
      "source": [
        ""
      ],
      "execution_count": null,
      "outputs": []
    }
  ]
}
